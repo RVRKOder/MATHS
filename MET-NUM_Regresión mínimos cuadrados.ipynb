{
 "cells": [
  {
   "cell_type": "markdown",
   "metadata": {},
   "source": [
    "# Regresión Lineal: Mínimos Cuadrados"
   ]
  },
  {
   "cell_type": "markdown",
   "metadata": {},
   "source": [
    "### Se importan los dos $módulos$ necesarios: \n",
    "### 1.- $numpy$ resumido como $np$, para cálculos con variables del tipo $array$. \n",
    "### 2.- $matplotlib.pyplot$ resumido como $plt$, para visualizar gráficos en dos o tres dimensiones."
   ]
  },
  {
   "cell_type": "code",
   "execution_count": 1,
   "metadata": {},
   "outputs": [],
   "source": [
    "import numpy as np\n",
    "import matplotlib.pyplot as plt"
   ]
  },
  {
   "cell_type": "markdown",
   "metadata": {},
   "source": [
    "### Los datos que se quieran ajustar por este método se pueden ingresar al código desde variables del tipo $array$, hasta $data\\:frames$ en archivos $.cvs$ (para esto necesitaríamos importar la librería pandas). Dependiendo del tipo de entradas serán las modificaciones al código. Para este caso se separan los valores de $(x,y)$ en un array para cada uno:"
   ]
  },
  {
   "cell_type": "code",
   "execution_count": 2,
   "metadata": {},
   "outputs": [
    {
     "name": "stdout",
     "output_type": "stream",
     "text": [
      "[1 2 3 4 5 6 7]\n",
      " \n",
      "[0.5 2.5 2.  4.  3.5 6.  5.5]\n"
     ]
    }
   ],
   "source": [
    "x = np.array([1, 2, 3, 4, 5, 6, 7])\n",
    "y = np.array([0.5, 2.5, 2.0, 4.0, 3.5, 6.0, 5.5])\n",
    "\n",
    "print(x)\n",
    "print(' ')\n",
    "# print(type(x))\n",
    "print(y)\n",
    "# print(type(y))"
   ]
  },
  {
   "cell_type": "markdown",
   "metadata": {},
   "source": [
    "## De los conjuntos de datos calculamos los siguientes valores: \n",
    "### 1.- $Número\\:de\\:elementos$  \n",
    "### 2.- $Sumatoria\\:de\\:valores\\:en\\:(x,y)$: \n",
    "### $\\sum x$, $\\sum y$\n",
    "### 3.- $Media\\:de\\:los\\:valores\\:x,y$: \n",
    "### $\\bar{x} = \\dfrac{\\sum x}{n}$, $\\bar{y} = \\dfrac{\\sum y}{n}$ \n",
    "### 4.- $Sumatoria\\:de\\:productos\\:(xy)$: \n",
    "### $\\sum (xy)$\n",
    "### 5.- $Sumatoria\\:de\\:los\\:valores\\:x^{2}$: \n",
    "### $\\sum x^{2}$"
   ]
  },
  {
   "cell_type": "code",
   "execution_count": 3,
   "metadata": {},
   "outputs": [
    {
     "name": "stdout",
     "output_type": "stream",
     "text": [
      " \n",
      "Número de elementos: 7\n",
      " \n",
      "Datos en x:[1 2 3 4 5 6 7]\n",
      "Sumatoria: 28\n",
      "Media: 4.0\n",
      " \n",
      "Datos en y:[0.5 2.5 2.  4.  3.5 6.  5.5]\n",
      "Sumatoria: 24.0\n",
      "Media: 3.4285714285714284\n",
      " \n",
      "Sumatoria del cuadrado de los elementos de x: 140\n",
      " \n",
      "Sumatoria del producto x*y: 119.5\n"
     ]
    }
   ],
   "source": [
    "# Número de elementos\n",
    "n = len(x)\n",
    "\n",
    "# Sumatorias de x_i y y_i:\n",
    "Sx = sum(x)\n",
    "Sy = sum(y)\n",
    "\n",
    "# Medias de x_i y y_i:\n",
    "x_med = Sx / n\n",
    "y_med = Sy / n\n",
    "\n",
    "# Sumatoria de los elementos x_i elevados al cuadrado\n",
    "x2 = x ** 2\n",
    "Sx2 = sum(x2)\n",
    "\n",
    "# Sumatoria del producto de los elentos x_i por y_i\n",
    "producto_xy = x * y\n",
    "Sproducto_xy = sum(producto_xy)\n",
    "\n",
    "print(' ')\n",
    "print('Número de elementos: ' + str(n))\n",
    "print(' ')\n",
    "print('Datos en x:' + str(x))\n",
    "print('Sumatoria: ' + str(Sx))\n",
    "print('Media: ' + str(x_med))\n",
    "print(' ')\n",
    "print('Datos en y:' + str(y))\n",
    "print('Sumatoria: ' + str(Sy))\n",
    "print('Media: ' + str(y_med))\n",
    "print(' ')\n",
    "print('Sumatoria del cuadrado de los elementos de x: '+ str(Sx2))\n",
    "print(' ')\n",
    "print('Sumatoria del producto x*y: ' + str(Sproducto_xy))"
   ]
  },
  {
   "cell_type": "markdown",
   "metadata": {},
   "source": [
    "### Definimos las ecuaciones normales y las asignamos a las variables $a_1$ y $a_0$:\n",
    "### $a_1 = \\dfrac{n\\sum x_{i}y_{i} - \\sum x_{i} \\sum y_{i}}{n\\sum x^{2}_{i} - (\\sum x_{i})^{2}}$ \n",
    "### $a_0 = \\bar{y} - a_{i}\\bar{x}$"
   ]
  },
  {
   "cell_type": "code",
   "execution_count": 4,
   "metadata": {},
   "outputs": [
    {
     "name": "stdout",
     "output_type": "stream",
     "text": [
      "Valor de a_1: 0.8392857142857143\n",
      " \n",
      "Valor de a_0: 0.07142857142857117\n"
     ]
    }
   ],
   "source": [
    "a_1 = ((n * Sproducto_xy) - (Sx * Sy)) / ((n * Sx2) - (Sx ** 2))\n",
    "\n",
    "a_0 = y_med - (a_1 * x_med) \n",
    "\n",
    "print('Valor de a_1: ' + str(a_1))\n",
    "print(' ')\n",
    "print('Valor de a_0: ' + str(a_0))"
   ]
  },
  {
   "cell_type": "markdown",
   "metadata": {},
   "source": [
    "### Definimos la función del ajuste con \"lambda\" y la asignamos a la variable \"Y\":"
   ]
  },
  {
   "cell_type": "code",
   "execution_count": 5,
   "metadata": {},
   "outputs": [
    {
     "name": "stdout",
     "output_type": "stream",
     "text": [
      "Valores de \"y\" ajustados por regresión lineal:\n",
      "[0.91071429 1.75       2.58928571 3.42857143 4.26785714 5.10714286\n",
      " 5.94642857]\n"
     ]
    }
   ],
   "source": [
    "# Función de Ajuste por Mínimos Cuadrados:\n",
    "func = lambda X: a_0 + (a_1 * X) \n",
    "\n",
    "# Asignamos los valores a una variable \"Y\"\n",
    "Y = func(x)\n",
    "\n",
    "print('Valores de \"y\" ajustados por regresión lineal:')\n",
    "print(Y)"
   ]
  },
  {
   "cell_type": "markdown",
   "metadata": {},
   "source": [
    "### Graficamos los valores de la función que ya ha sido operada con los valores de \"x_i\":"
   ]
  },
  {
   "cell_type": "code",
   "execution_count": 9,
   "metadata": {
    "scrolled": true
   },
   "outputs": [
    {
     "data": {
      "image/png": "[encoded data removed]",
      "text/plain": [
       "<Figure size 432x288 with 1 Axes>"
      ]
     },
     "metadata": {
      "needs_background": "light"
     },
     "output_type": "display_data"
    }
   ],
   "source": [
    "# Graficamos los datos dispersos y su ajuste por regresión lineal\n",
    "plt.plot(x, y, '.', color=\"red\") \n",
    "plt.xlabel('x')\n",
    "plt.ylabel('y') \n",
    "plt.show()"
   ]
  },
  {
   "cell_type": "code",
   "execution_count": 6,
   "metadata": {
    "scrolled": true
   },
   "outputs": [
    {
     "data": {
      "image/png": "[encoded data removed]",
      "text/plain": [
       "<Figure size 432x288 with 1 Axes>"
      ]
     },
     "metadata": {
      "needs_background": "light"
     },
     "output_type": "display_data"
    }
   ],
   "source": [
    "# Graficamos los datos dispersos y su ajuste por regresión lineal\n",
    "plt.plot(x, Y, color=\"black\") \n",
    "plt.plot(x, y, '.', color=\"red\") \n",
    "plt.xlabel('x')\n",
    "plt.ylabel('y') \n",
    "plt.show()"
   ]
  },
  {
   "cell_type": "code",
   "execution_count": null,
   "metadata": {},
   "outputs": [],
   "source": []
  }
 ],
 "metadata": {
  "kernelspec": {
   "display_name": "Python 3",
   "language": "python",
   "name": "python3"
  },
  "language_info": {
   "codemirror_mode": {
    "name": "ipython",
    "version": 3
   },
   "file_extension": ".py",
   "mimetype": "text/x-python",
   "name": "python",
   "nbconvert_exporter": "python",
   "pygments_lexer": "ipython3",
   "version": "3.7.3"
  }
 },
 "nbformat": 4,
 "nbformat_minor": 2
}
