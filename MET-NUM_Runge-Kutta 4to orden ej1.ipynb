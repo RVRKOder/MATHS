{
 "cells": [
  {
   "cell_type": "markdown",
   "metadata": {},
   "source": [
    "## Método $Runge$ $Kutta$ $de$ $4to$ $Orden$\n",
    "### El método $RK4$ se utiliza para encontar una aproximación a la solución de $ED$ $ordinarias$ $de$ $1^{er}$ $orden$ en un intervalo determinado, del cual se conocen sus condiciones iniciales (problema del valor inicial):\n",
    "### $\\dfrac{dy}{dx} = f(x_{i},\\:y_{i})$ donde se conoce la condición inicial $f(x_0) = y_0$ "
   ]
  },
  {
   "cell_type": "markdown",
   "metadata": {},
   "source": [
    "### La ecuación que describe el método $RK4$ es la siguiente:\n",
    "### $1.- \\:$ $y_{n+1} = y_{n} + \\frac{h}{6}(k_{1} + 2k_{2} + 2k_{3} + k_{4})$\n",
    "### Donde $y_{n+1}$ es el valor anterior de la función evaluada $f(x,\\:y)$,  la variable $h$ corresponde al paso o saltos en lo que encontrará solución a la EDO en el intervalo determinado de $f(x_0) = y_0$ hasta $x_f$. Las variables $k_1$, $k_2$, $k_3$ y $k_4$ se describen a continuación:\n",
    "### $2.- \\:$ $k_1 = f(x_{n}, y_{n})$\n",
    "### $3.- \\:$ $k_2 = f(x_{n} + \\frac{h}{2}, \\:y_{n} + \\frac{h}{2}k_{1})$\n",
    "### $4.- \\:$ $k_3 = f(x_{n} + \\frac{h}{2}, \\:y_{n} + \\frac{h}{2}k_{2})$\n",
    "### $5.- \\:$ $k_1 = f(x_{n} + h, y_{n} + hk_{3})$\n",
    "### Este método funciona de forma $iterativa$ con los valores $y$ anteriores calculados, partiendo de las condiciones iniciales  $f(x_0) = y_0$ "
   ]
  },
  {
   "cell_type": "markdown",
   "metadata": {},
   "source": [
    "## Ejemplo\n",
    "### Encontrar la solución de $\\dfrac{dy}{dx}=2xy$, de condición inicial $y(1)=1$ aplicando el método RK4 con un tamaño de paso de $h=0.1$, calcular la aproximación hasta $y(1.5)$ "
   ]
  },
  {
   "cell_type": "code",
   "execution_count": 10,
   "metadata": {},
   "outputs": [
    {
     "name": "stdout",
     "output_type": "stream",
     "text": [
      "Ingrese el valor inicial x_0: 1\n",
      " \n",
      "Ingrese el valor inicial y_0: 1\n",
      " \n",
      "Ingrese el valor final x_f: 1.5\n",
      " \n",
      "Ingrese el tamaño de paso h: .05\n",
      " \n",
      "Total de iteraciones:  10.0\n",
      " \n",
      "x_n, y_n\n",
      "1.00 1.0000\n",
      "1.05 1.1079\n",
      "1.10 1.2337\n",
      "1.15 1.3806\n",
      "1.20 1.5527\n",
      "1.25 1.7551\n",
      "1.30 1.9937\n",
      "1.35 2.2762\n",
      "1.40 2.6117\n",
      "1.45 3.0117\n",
      "1.50 3.4903\n",
      "--------------------\n",
      "Solución por método RK4:\n"
     ]
    },
    {
     "data": {
      "image/png": "[encoded data removed]",
      "text/plain": [
       "<Figure size 432x288 with 1 Axes>"
      ]
     },
     "metadata": {
      "needs_background": "light"
     },
     "output_type": "display_data"
    }
   ],
   "source": [
    "import numpy as np \n",
    "import math\n",
    "import matplotlib.pyplot as plt\n",
    "\n",
    "# Condición inicial f(x0) = y0\n",
    "x0 = float(input('Ingrese el valor inicial x_0: ')) \n",
    "print(' ')\n",
    "y0 = float(input('Ingrese el valor inicial y_0: '))\n",
    "y00 = y0\n",
    "print(' ')\n",
    "\n",
    "# Valor x_final y tamaño de paso h:\n",
    "xf = float(input('Ingrese el valor final x_f: '))\n",
    "print(' ')\n",
    "h = float(input('Ingrese el tamaño de paso h: '))\n",
    "\n",
    "# este valor lo usamos para gregar un \n",
    "# índice más al array de valores en x:\n",
    "vf_xi = h/10 \n",
    "\n",
    "# Número de iteraciones\n",
    "n = (xf - x0)/(h)\n",
    "print(' ')\n",
    "print('Total de iteraciones: ', n)\n",
    "\n",
    "# Array de valores en x, array de valores a iterar\n",
    "x = np.arange(start=x0, stop=xf+vf_xi, step=h)\n",
    "\n",
    "xi = x[1:]\n",
    "\n",
    "# Definimos la función dy/dx = f(x,y):\n",
    "def f(x,y):\n",
    "    # Aquí colocamos la expresión de la función f(x, y):\n",
    "    return 2*x*y\n",
    "\n",
    "# Ecuaciones del modelo RK4\n",
    "ycalc = []\n",
    "for i in x:\n",
    "    # Ecuaciones de k1, k2, k3, k4:\n",
    "    k1 = h * f(i, y00)\n",
    "    k2 = h * f(i + 0.5 * h, y00 + 0.5 * k1)\n",
    "    k3 = h * f(i + 0.5 * h, y00 + 0.5 * k2)\n",
    "    k4 = h * f(i + h, y00 + k3)\n",
    " \n",
    "    # Definimos la ecuación RK4, donde el valor resultante es el \n",
    "    # nuevo valor de entrada de y para la siguiente iteración:\n",
    "    y_i = y00 + (1.0 / 6.0)*(k1 + 2 * k2 + 2 * k3 + k4)\n",
    "    \n",
    "    y00 = y_i\n",
    "    \n",
    "    ycalc.append(y00)\n",
    "\n",
    "# Con esta instrucción eliminamos el último valor calculado\n",
    "# de y, este corresponde al valor de x siguiente del rango:\n",
    "ind_f = len(ycalc) -1\n",
    "\n",
    "# Agregamos y0 a los valores calculados\n",
    "y_calc = [y0] + ycalc[0:ind_f]\n",
    "#print(' ')\n",
    "#print('Los valores de y son: ', y_calc)\n",
    "\n",
    "# Printamos los valores x,y:\n",
    "print(' ')\n",
    "print('x_n, y_n')\n",
    "for i, j in list(zip(x, y_calc)):\n",
    "    #se printan los valores:(xi, yi) \n",
    "    print(\"%.2f %.4f\" %   (i, j))\n",
    "\n",
    "print('--------------------')\n",
    "print('Solución por método RK4:')\n",
    "\n",
    "# Graficamos los datos x,y:\n",
    "plt.plot(x, y_calc, '.', color=\"red\") \n",
    "plt.plot(x, y_calc, color=\"black\") \n",
    "plt.legend(['RK4'])\n",
    "plt.xlabel('x')\n",
    "plt.ylabel('y')\n",
    "plt.show()"
   ]
  },
  {
   "cell_type": "code",
   "execution_count": 6,
   "metadata": {},
   "outputs": [
    {
     "name": "stdout",
     "output_type": "stream",
     "text": [
      "--------------------\n",
      "Solución exacta:\n"
     ]
    },
    {
     "data": {
      "image/png": "[encoded data removed]",
      "text/plain": [
       "<Figure size 432x288 with 1 Axes>"
      ]
     },
     "metadata": {
      "needs_background": "light"
     },
     "output_type": "display_data"
    }
   ],
   "source": [
    "# Función exacta:\n",
    "xex = np.linspace(x0,xf,101)\n",
    "c = .3678794412\n",
    "y_exacta = c * (np.exp(pow(xex,2)))\n",
    "\n",
    "print('--------------------')\n",
    "print('Solución exacta:')\n",
    "plt.plot(xex, y_exacta)\n",
    "plt.legend(['Solución exacta'])\n",
    "plt.xlabel('x')\n",
    "plt.ylabel('y')\n",
    "plt.show()"
   ]
  },
  {
   "cell_type": "code",
   "execution_count": 11,
   "metadata": {},
   "outputs": [
    {
     "name": "stdout",
     "output_type": "stream",
     "text": [
      "--------------------\n",
      "Solución exacta VS RK4:\n"
     ]
    },
    {
     "data": {
      "image/png": "[encoded data removed]",
      "text/plain": [
       "<Figure size 432x288 with 1 Axes>"
      ]
     },
     "metadata": {
      "needs_background": "light"
     },
     "output_type": "display_data"
    }
   ],
   "source": [
    "# Función exacta:\n",
    "xex = np.linspace(x0,xf,101)\n",
    "c = .3678794412\n",
    "y_exacta = c * (np.exp(pow(xex,2)))\n",
    "\n",
    "print('--------------------')\n",
    "print('Solución exacta VS RK4:')\n",
    "plt.plot(x, y_calc, '.', color=\"red\") \n",
    "plt.plot(xex,y_exacta)\n",
    "plt.plot(x, y_calc, color=\"black\") \n",
    "plt.legend(['RK4', 'Solución exacta'])\n",
    "plt.xlabel('x')\n",
    "plt.ylabel('y')\n",
    "plt.show()"
   ]
  },
  {
   "cell_type": "code",
   "execution_count": 9,
   "metadata": {},
   "outputs": [
    {
     "name": "stdout",
     "output_type": "stream",
     "text": [
      " \n",
      "Valor real en y(4): 3.490342957732789\n",
      " \n",
      "Valor aproximado en y(4): 3.454427083333333\n",
      " \n",
      "Error absoluto:  0.035915874399456094\n",
      " \n",
      "Error relativo:  0.010290070298073474\n",
      " \n",
      "Porcentaje del error relativo:  1.0290070298073475\n"
     ]
    }
   ],
   "source": [
    "# ------------------------------- Cálculo del error:\n",
    "y_real = y_exacta[-1]\n",
    "\n",
    "e_abs = abs(y_real - y_calc[-1])\n",
    "\n",
    "e_rel = e_abs / abs(y_real)\n",
    "\n",
    "p_e_rel = e_rel * 100\n",
    "\n",
    "print(' ')\n",
    "print('Valor real en y(4):', y_real)\n",
    "print(' ')\n",
    "print('Valor aproximado en y(4):', y_calc[-1])\n",
    "print(' ')\n",
    "print('Error absoluto: ', e_abs)\n",
    "print(' ')\n",
    "print('Error relativo: ', e_rel)\n",
    "print(' ')\n",
    "print('Porcentaje del error relativo: ', p_e_rel)"
   ]
  },
  {
   "cell_type": "code",
   "execution_count": 12,
   "metadata": {},
   "outputs": [
    {
     "name": "stdout",
     "output_type": "stream",
     "text": [
      " \n",
      "Valor real en y(4): 3.490342957732789\n",
      " \n",
      "Valor aproximado en y(4): 3.490333819700948\n",
      " \n",
      "Error absoluto:  9.138031840993932e-06\n",
      " \n",
      "Error relativo:  2.618089956102679e-06\n",
      " \n",
      "Porcentaje del error relativo:  0.0002618089956102679\n"
     ]
    }
   ],
   "source": [
    "# ------------------------------- Cálculo del error:\n",
    "y_real = y_exacta[-1]\n",
    "\n",
    "e_abs = abs(y_real - y_calc[-1])\n",
    "\n",
    "e_rel = e_abs / abs(y_real)\n",
    "\n",
    "p_e_rel = e_rel * 100\n",
    "\n",
    "print(' ')\n",
    "print('Valor real en y(4):', y_real)\n",
    "print(' ')\n",
    "print('Valor aproximado en y(4):', y_calc[-1])\n",
    "print(' ')\n",
    "print('Error absoluto: ', e_abs)\n",
    "print(' ')\n",
    "print('Error relativo: ', e_rel)\n",
    "print(' ')\n",
    "print('Porcentaje del error relativo: ', p_e_rel)"
   ]
  },
  {
   "cell_type": "code",
   "execution_count": null,
   "metadata": {},
   "outputs": [],
   "source": []
  }
 ],
 "metadata": {
  "kernelspec": {
   "display_name": "Python 3",
   "language": "python",
   "name": "python3"
  },
  "language_info": {
   "codemirror_mode": {
    "name": "ipython",
    "version": 3
   },
   "file_extension": ".py",
   "mimetype": "text/x-python",
   "name": "python",
   "nbconvert_exporter": "python",
   "pygments_lexer": "ipython3",
   "version": "3.7.3"
  }
 },
 "nbformat": 4,
 "nbformat_minor": 2
}
