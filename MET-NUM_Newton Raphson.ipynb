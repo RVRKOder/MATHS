{
 "cells": [
  {
   "cell_type": "markdown",
   "metadata": {},
   "source": [
    "Solución aproximada de f(x)=0 por el método de Newton-Raphson.\n",
    "\n",
    "## Parámetros\n",
    "### $f$ : Función. Función de la cual se busca encontrar la solución $f(x)=0$.\n",
    "### $Df$ : Función. Derivada de $f(x)$.\n",
    "### $x0$ : Número. Valor inicial para comenzar iteraciones.\n",
    "### $epsilon$ : Número Criterio para detener las iteraciones $abs(f(x))\\:<\\:epsilon$.\n",
    "### $max\\_iter$ : Entero. Número máximo de iteraciones.\n",
    "\n",
    "## Salidas\n",
    "### xn : Número. Implementación del método de $N-R$: \n",
    "### 1. Calcula la aproximación lineal de $f(x)$ en $x_n$ y encuentra $x$ por la fórmula $x = x_{n} - f(x_{n})/Df(x_{n})$\n",
    "### 2. Continúa iterando hasta $abs(f(x_{n}))\\:<\\:epsilon$ y regresa la salida $x_{n}$.\n",
    "### 3.1. Si $Df(x_{n})\\:==\\:0$, regresa $none$. \n",
    "### 3.2. Si el número de iteraciones exede $max\\_iter$, regresa $none$."
   ]
  },
  {
   "cell_type": "code",
   "execution_count": 1,
   "metadata": {},
   "outputs": [],
   "source": [
    "import numpy as np\n",
    "import matplotlib.pyplot as plt\n",
    "\n",
    "def newton(f, Df, x0, epsilon, max_iter):\n",
    "    \n",
    "    xn = x0\n",
    "    for n in range(0, max_iter):\n",
    "        \n",
    "        fxn = f(xn)\n",
    "        if abs(fxn) < epsilon:\n",
    "            print('Se encontró la solución después de: ',n,'iteraciones.')\n",
    "            return xn\n",
    "        \n",
    "        Dfxn = Df(xn)\n",
    "        if Dfxn == 0:\n",
    "            print('Derivada de cero. Sin solución.')\n",
    "            return None\n",
    "        \n",
    "        xn = xn - fxn/Dfxn\n",
    "\n",
    "    print('Se exedió el máximo de iteraciones. Sin solución.')\n",
    "    return None"
   ]
  },
  {
   "cell_type": "code",
   "execution_count": 2,
   "metadata": {},
   "outputs": [],
   "source": [
    "# Ejemplo: \n",
    "# Las funciones se declaran como funciones lambda:\n",
    "# f = lambda x: x**2 - x - 1  \n",
    "#Df = lambda x: 2*x - 1\n",
    "\n",
    "#a = (2*5000) / (np.pi * (240e6))\n",
    "C = 0.0675\n",
    "\n",
    "f = lambda x: pow(x,2) + (1.20*x) - C\n",
    "Df = lambda x: (2*x) + 1.20"
   ]
  },
  {
   "cell_type": "code",
   "execution_count": 6,
   "metadata": {},
   "outputs": [
    {
     "name": "stdout",
     "output_type": "stream",
     "text": [
      "Se encontró la solución después de:  4 iteraciones.\n"
     ]
    },
    {
     "data": {
      "text/plain": [
       "0.05383484153110104"
      ]
     },
     "execution_count": 6,
     "metadata": {},
     "output_type": "execute_result"
    }
   ],
   "source": [
    "newton(f, Df, 0.1, 1e-20, 1000)"
   ]
  },
  {
   "cell_type": "code",
   "execution_count": null,
   "metadata": {},
   "outputs": [],
   "source": []
  },
  {
   "cell_type": "code",
   "execution_count": null,
   "metadata": {},
   "outputs": [],
   "source": []
  }
 ],
 "metadata": {
  "kernelspec": {
   "display_name": "Python 3 (ipykernel)",
   "language": "python",
   "name": "python3"
  },
  "language_info": {
   "codemirror_mode": {
    "name": "ipython",
    "version": 3
   },
   "file_extension": ".py",
   "mimetype": "text/x-python",
   "name": "python",
   "nbconvert_exporter": "python",
   "pygments_lexer": "ipython3",
   "version": "3.11.3"
  }
 },
 "nbformat": 4,
 "nbformat_minor": 2
}
